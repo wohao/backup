{
 "cells": [
  {
   "cell_type": "markdown",
   "metadata": {},
   "source": [
    "## numpy\n"
   ]
  },
  {
   "cell_type": "code",
   "execution_count": 3,
   "metadata": {
    "collapsed": false
   },
   "outputs": [
    {
     "name": "stdout",
     "output_type": "stream",
     "text": [
      "(2, 3, 3)\n",
      "3\n",
      "18\n",
      "int32\n",
      "<memory at 0x0000022D9B387C78>\n",
      "4\n",
      "[[0 0 0]\n",
      " [0 0 0]]\n",
      "[[2 2 2]\n",
      " [2 2 2]]\n",
      "6\n",
      "3.33333333333\n",
      "[1 2 3 2 3 4 4 5 6 1 2 3 2 3 4 4 5 6]\n",
      "[1 2 3 2 3 4 4 5 6 1 2 3 2 3 4 4 5 6]\n"
     ]
    }
   ],
   "source": [
    "import numpy as np\n",
    "a =[[[1,2,3],[2,3,4],[4,5,6]],[[1,2,3],[2,3,4],[4,5,6]]]\n",
    "b = np.array(a)\n",
    "print(b.shape) #数组维度\n",
    "print(b.ndim)#数组秩  维度的长度\n",
    "print(b.size)#数组大小  维度元素的乘积\n",
    "print(b.dtype)#用来描述数组中元素类型的对象\n",
    "print(b.data)#包含实际数组元素的缓冲区\n",
    "print(b.itemsize)#数组中每个元素的字节大小。\n",
    "#例如，一个元素类型为float64的数组itemsiz属性值为8(=64/8),\n",
    "#又如，一个元素类型为complex32的数组item属性为4(=32/8).\n",
    "print(np.argmin(b,axis=2))#最大值得索引\n",
    "print(b.argmax(axis=1))\n",
    "print(b.max())#最大值、\n",
    "print(b.mean())#均值\n",
    "print(b.flatten())#展开为一维数组\n",
    "print(b.ravel())#可以解析的一维数组"
   ]
  },
  {
   "cell_type": "code",
   "execution_count": 4,
   "metadata": {
    "collapsed": false
   },
   "outputs": [
    {
     "name": "stdout",
     "output_type": "stream",
     "text": [
      "[[ 1.  1.  1.]\n",
      " [ 1.  1.  1.]\n",
      " [ 1.  1.  1.]]\n"
     ]
    }
   ],
   "source": [
    "import numpy as np\n",
    "\n",
    "e = np.ones((3,3))\n",
    "print(e)\n",
    "print(e.dtype)"
   ]
  }
 ],
 "metadata": {
  "anaconda-cloud": {},
  "kernelspec": {
   "display_name": "Python [conda root]",
   "language": "python",
   "name": "conda-root-py"
  },
  "language_info": {
   "codemirror_mode": {
    "name": "ipython",
    "version": 3
   },
   "file_extension": ".py",
   "mimetype": "text/x-python",
   "name": "python",
   "nbconvert_exporter": "python",
   "pygments_lexer": "ipython3",
   "version": "3.5.2"
  }
 },
 "nbformat": 4,
 "nbformat_minor": 1
}
